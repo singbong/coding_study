{
 "cells": [
  {
   "cell_type": "markdown",
   "id": "9da4075b",
   "metadata": {},
   "source": [
    "## 이름: 신봉균\n",
    "## 학번: 20191624\n",
    "## 학과: AI빅데이터전공"
   ]
  },
  {
   "cell_type": "markdown",
   "id": "fd4bff93",
   "metadata": {},
   "source": [
    "### 연습문제 5.4\n",
    "새 품종의 묘목 성장 조건을 연구하기 위해, 세 가지 토양에 묘목 심어 다음과 같이 성장 결과를 세 범주로 나누었다.\n",
    "적절한 상대도수를 구하여 토양종류에 따른 성장 정도를 비교 분석하라."
   ]
  },
  {
   "cell_type": "code",
   "execution_count": 133,
   "id": "7658dadd",
   "metadata": {},
   "outputs": [
    {
     "data": {
      "text/html": [
       "<div>\n",
       "<style scoped>\n",
       "    .dataframe tbody tr th:only-of-type {\n",
       "        vertical-align: middle;\n",
       "    }\n",
       "\n",
       "    .dataframe tbody tr th {\n",
       "        vertical-align: top;\n",
       "    }\n",
       "\n",
       "    .dataframe thead th {\n",
       "        text-align: right;\n",
       "    }\n",
       "</style>\n",
       "<table border=\"1\" class=\"dataframe\">\n",
       "  <thead>\n",
       "    <tr style=\"text-align: right;\">\n",
       "      <th></th>\n",
       "      <th>약함</th>\n",
       "      <th>보통</th>\n",
       "      <th>좋음</th>\n",
       "      <th>합계</th>\n",
       "    </tr>\n",
       "    <tr>\n",
       "      <th>토양종류</th>\n",
       "      <th></th>\n",
       "      <th></th>\n",
       "      <th></th>\n",
       "      <th></th>\n",
       "    </tr>\n",
       "  </thead>\n",
       "  <tbody>\n",
       "    <tr>\n",
       "      <th>진흙</th>\n",
       "      <td>16</td>\n",
       "      <td>31</td>\n",
       "      <td>18</td>\n",
       "      <td>65</td>\n",
       "    </tr>\n",
       "    <tr>\n",
       "      <th>모래흙</th>\n",
       "      <td>8</td>\n",
       "      <td>16</td>\n",
       "      <td>36</td>\n",
       "      <td>60</td>\n",
       "    </tr>\n",
       "    <tr>\n",
       "      <th>보통흙</th>\n",
       "      <td>14</td>\n",
       "      <td>21</td>\n",
       "      <td>25</td>\n",
       "      <td>60</td>\n",
       "    </tr>\n",
       "    <tr>\n",
       "      <th>합계</th>\n",
       "      <td>38</td>\n",
       "      <td>68</td>\n",
       "      <td>79</td>\n",
       "      <td>185</td>\n",
       "    </tr>\n",
       "  </tbody>\n",
       "</table>\n",
       "</div>"
      ],
      "text/plain": [
       "      약함  보통  좋음   합계\n",
       "토양종류                 \n",
       "진흙    16  31  18   65\n",
       "모래흙    8  16  36   60\n",
       "보통흙   14  21  25   60\n",
       "합계    38  68  79  185"
      ]
     },
     "execution_count": 133,
     "metadata": {},
     "output_type": "execute_result"
    }
   ],
   "source": [
    "import pandas as pd\n",
    "import numpy as np\n",
    "import matplotlib.pyplot as plt\n",
    "#토양종류에 따른 성장 정도에 대한 데이터를 dataframe화 시키기\n",
    "# 토양종류에 따른 성장 정도이기 때문에 토양종류가 행으로 가는 것이 적절하다고 판단했음으로 데이터프레임을 변화시켰다.\n",
    "sample= {'토양종류':['진흙','모래흙','보통흙'], '약함':[16,8,14],'보통':[31,16,21],'좋음':[18,36,25]}  \n",
    "sample= pd.DataFrame(sample)\n",
    "#'토양종류' 열을 기준 index로 설정\n",
    "sample= sample.set_index('토양종류')\n",
    "sample.loc['합계'] = sample.apply(np.sum, axis=0)  #'합계' 행을 추가하고 그 행에 각 열의 합을 저장\n",
    "sample['합계'] = sample.apply(np.sum, axis=1)     #'합계' 열을 추가하고 그 행에 각 열의 합을 저장\n",
    "sample"
   ]
  },
  {
   "cell_type": "markdown",
   "id": "6bed9baa",
   "metadata": {},
   "source": [
    "### 위 자료에 대한 상대도수 분할표"
   ]
  },
  {
   "cell_type": "code",
   "execution_count": 107,
   "id": "eb472bd2",
   "metadata": {},
   "outputs": [
    {
     "data": {
      "text/html": [
       "<div>\n",
       "<style scoped>\n",
       "    .dataframe tbody tr th:only-of-type {\n",
       "        vertical-align: middle;\n",
       "    }\n",
       "\n",
       "    .dataframe tbody tr th {\n",
       "        vertical-align: top;\n",
       "    }\n",
       "\n",
       "    .dataframe thead th {\n",
       "        text-align: right;\n",
       "    }\n",
       "</style>\n",
       "<table border=\"1\" class=\"dataframe\">\n",
       "  <thead>\n",
       "    <tr style=\"text-align: right;\">\n",
       "      <th></th>\n",
       "      <th>약함</th>\n",
       "      <th>보통</th>\n",
       "      <th>좋음</th>\n",
       "      <th>합계</th>\n",
       "    </tr>\n",
       "    <tr>\n",
       "      <th>토양종류</th>\n",
       "      <th></th>\n",
       "      <th></th>\n",
       "      <th></th>\n",
       "      <th></th>\n",
       "    </tr>\n",
       "  </thead>\n",
       "  <tbody>\n",
       "    <tr>\n",
       "      <th>진흙</th>\n",
       "      <td>0.086486</td>\n",
       "      <td>0.167568</td>\n",
       "      <td>0.097297</td>\n",
       "      <td>0.351351</td>\n",
       "    </tr>\n",
       "    <tr>\n",
       "      <th>모래흙</th>\n",
       "      <td>0.043243</td>\n",
       "      <td>0.086486</td>\n",
       "      <td>0.194595</td>\n",
       "      <td>0.324324</td>\n",
       "    </tr>\n",
       "    <tr>\n",
       "      <th>보통흙</th>\n",
       "      <td>0.075676</td>\n",
       "      <td>0.113514</td>\n",
       "      <td>0.135135</td>\n",
       "      <td>0.324324</td>\n",
       "    </tr>\n",
       "    <tr>\n",
       "      <th>합계</th>\n",
       "      <td>0.205405</td>\n",
       "      <td>0.367568</td>\n",
       "      <td>0.427027</td>\n",
       "      <td>1.000000</td>\n",
       "    </tr>\n",
       "  </tbody>\n",
       "</table>\n",
       "</div>"
      ],
      "text/plain": [
       "            약함        보통        좋음        합계\n",
       "토양종류                                        \n",
       "진흙    0.086486  0.167568  0.097297  0.351351\n",
       "모래흙   0.043243  0.086486  0.194595  0.324324\n",
       "보통흙   0.075676  0.113514  0.135135  0.324324\n",
       "합계    0.205405  0.367568  0.427027  1.000000"
      ]
     },
     "execution_count": 107,
     "metadata": {},
     "output_type": "execute_result"
    }
   ],
   "source": [
    "sample2= sample\n",
    "total=sample2.loc['합계','합계'] #데이터 갯수의 합을 total에 저장\n",
    "total\n",
    "sample2 = sample2.apply(lambda x: x / total) #apply 함수를 사용하면 반복문을 사용하지 않아도 된다.\n",
    "sample2"
   ]
  },
  {
   "cell_type": "markdown",
   "id": "cd62c2ec",
   "metadata": {},
   "source": [
    "### 토양종류에 따른 성장정도"
   ]
  },
  {
   "cell_type": "code",
   "execution_count": 128,
   "id": "695f8864",
   "metadata": {},
   "outputs": [
    {
     "data": {
      "text/html": [
       "<div>\n",
       "<style scoped>\n",
       "    .dataframe tbody tr th:only-of-type {\n",
       "        vertical-align: middle;\n",
       "    }\n",
       "\n",
       "    .dataframe tbody tr th {\n",
       "        vertical-align: top;\n",
       "    }\n",
       "\n",
       "    .dataframe thead th {\n",
       "        text-align: right;\n",
       "    }\n",
       "</style>\n",
       "<table border=\"1\" class=\"dataframe\">\n",
       "  <thead>\n",
       "    <tr style=\"text-align: right;\">\n",
       "      <th></th>\n",
       "      <th>약함</th>\n",
       "      <th>보통</th>\n",
       "      <th>좋음</th>\n",
       "    </tr>\n",
       "    <tr>\n",
       "      <th>토양종류</th>\n",
       "      <th></th>\n",
       "      <th></th>\n",
       "      <th></th>\n",
       "    </tr>\n",
       "  </thead>\n",
       "  <tbody>\n",
       "    <tr>\n",
       "      <th>진흙</th>\n",
       "      <td>16</td>\n",
       "      <td>31</td>\n",
       "      <td>18</td>\n",
       "    </tr>\n",
       "    <tr>\n",
       "      <th>모래흙</th>\n",
       "      <td>8</td>\n",
       "      <td>16</td>\n",
       "      <td>36</td>\n",
       "    </tr>\n",
       "    <tr>\n",
       "      <th>보통흙</th>\n",
       "      <td>14</td>\n",
       "      <td>21</td>\n",
       "      <td>25</td>\n",
       "    </tr>\n",
       "  </tbody>\n",
       "</table>\n",
       "</div>"
      ],
      "text/plain": [
       "      약함  보통  좋음\n",
       "토양종류            \n",
       "진흙    16  31  18\n",
       "모래흙    8  16  36\n",
       "보통흙   14  21  25"
      ]
     },
     "execution_count": 128,
     "metadata": {},
     "output_type": "execute_result"
    }
   ],
   "source": [
    "sample3= sample.drop('합계', axis=0)  \n",
    "sample3= sample3.drop('합계', axis=1)   #'합계' 행과 열을 삭제\n",
    "sample3"
   ]
  },
  {
   "cell_type": "code",
   "execution_count": 135,
   "id": "3bcb5bbb",
   "metadata": {},
   "outputs": [
    {
     "data": {
      "text/html": [
       "<div>\n",
       "<style scoped>\n",
       "    .dataframe tbody tr th:only-of-type {\n",
       "        vertical-align: middle;\n",
       "    }\n",
       "\n",
       "    .dataframe tbody tr th {\n",
       "        vertical-align: top;\n",
       "    }\n",
       "\n",
       "    .dataframe thead th {\n",
       "        text-align: right;\n",
       "    }\n",
       "</style>\n",
       "<table border=\"1\" class=\"dataframe\">\n",
       "  <thead>\n",
       "    <tr style=\"text-align: right;\">\n",
       "      <th></th>\n",
       "      <th>약함</th>\n",
       "      <th>보통</th>\n",
       "      <th>좋음</th>\n",
       "      <th>합계</th>\n",
       "    </tr>\n",
       "    <tr>\n",
       "      <th>토양종류</th>\n",
       "      <th></th>\n",
       "      <th></th>\n",
       "      <th></th>\n",
       "      <th></th>\n",
       "    </tr>\n",
       "  </thead>\n",
       "  <tbody>\n",
       "    <tr>\n",
       "      <th>진흙</th>\n",
       "      <td>0.246154</td>\n",
       "      <td>0.476923</td>\n",
       "      <td>0.276923</td>\n",
       "      <td>1.0</td>\n",
       "    </tr>\n",
       "    <tr>\n",
       "      <th>모래흙</th>\n",
       "      <td>0.133333</td>\n",
       "      <td>0.266667</td>\n",
       "      <td>0.600000</td>\n",
       "      <td>1.0</td>\n",
       "    </tr>\n",
       "    <tr>\n",
       "      <th>보통흙</th>\n",
       "      <td>0.233333</td>\n",
       "      <td>0.350000</td>\n",
       "      <td>0.416667</td>\n",
       "      <td>1.0</td>\n",
       "    </tr>\n",
       "  </tbody>\n",
       "</table>\n",
       "</div>"
      ],
      "text/plain": [
       "            약함        보통        좋음   합계\n",
       "토양종류                                   \n",
       "진흙    0.246154  0.476923  0.276923  1.0\n",
       "모래흙   0.133333  0.266667  0.600000  1.0\n",
       "보통흙   0.233333  0.350000  0.416667  1.0"
      ]
     },
     "execution_count": 135,
     "metadata": {},
     "output_type": "execute_result"
    }
   ],
   "source": [
    "sample4= sample3.div(sample3.sum(axis=1), axis=0)   #각 행별 상대 도수 구하기\n",
    "sample4\n",
    "sample4['합계'] = sample4.apply(np.sum, axis=1)     #'합계' 열을 추가하고 그 행에 각 열의 합을 저장\n",
    "sample4"
   ]
  },
  {
   "cell_type": "markdown",
   "id": "0e437705",
   "metadata": {},
   "source": [
    "진흙의 성장정도는 보통>좋음>약함 이고\n",
    "모래흙의 성장정도는 좋음>보통>약함\n",
    "보통흙의 성장정도는 좋음>보통>약함\n",
    "으로 나타났다.\n",
    "\n",
    "토양의 종류가 모래흙 일때 '좋음' 성장정도의 상대도수가 가장 높았고 그다음으로 보통흙, 진흙 순이였다.\n",
    "따라서 묘목을 키우는데 모래흙이 효율적일 것으로 사료된다."
   ]
  },
  {
   "cell_type": "markdown",
   "id": "d0d25cb9",
   "metadata": {},
   "source": [
    "## 연습문제 5.9"
   ]
  },
  {
   "cell_type": "markdown",
   "id": "38a26186",
   "metadata": {},
   "source": [
    "#### (1)다음의 두 자료에 대하여 산점도를 그려라."
   ]
  },
  {
   "cell_type": "code",
   "execution_count": 140,
   "id": "9b59b789",
   "metadata": {},
   "outputs": [
    {
     "name": "stderr",
     "output_type": "stream",
     "text": [
      "C:\\Users\\Sin\\anaconda3\\lib\\site-packages\\IPython\\core\\pylabtools.py:151: UserWarning: Glyph 8722 (\\N{MINUS SIGN}) missing from current font.\n",
      "  fig.canvas.print_figure(bytes_io, **kw)\n"
     ]
    },
    {
     "data": {
      "image/png": "[encoded data removed]",
      "text/plain": [
       "<Figure size 640x480 with 1 Axes>"
      ]
     },
     "metadata": {},
     "output_type": "display_data"
    }
   ],
   "source": [
    "import numpy as np\n",
    "import matplotlib.pyplot as plt\n",
    "from matplotlib import font_manager, rc\n",
    "\n",
    "font_name= font_manager.FontProperties(fname='C:\\Windows\\Fonts\\H2GTRE.TTF').get_name()\n",
    "rc('font',family=font_name)\n",
    "\n",
    "x= np.array([-1,3,6,5,2,7])\n",
    "y= np.array([5,4,4,2,7,2])\n",
    "\n",
    "plt.figure()\n",
    "plt.scatter(x,y, color= 'red')\n",
    "plt.xlabel('x')\n",
    "plt.ylabel('y')\n",
    "plt.title('x,y에 관한 산점도')\n",
    "plt.show()"
   ]
  },
  {
   "cell_type": "markdown",
   "id": "5a6c8a24",
   "metadata": {},
   "source": [
    "#### (2) 표본상관계수를 구하라."
   ]
  },
  {
   "cell_type": "code",
   "execution_count": 146,
   "id": "25db90b3",
   "metadata": {},
   "outputs": [
    {
     "data": {
      "text/plain": [
       "-0.6803091303374614"
      ]
     },
     "execution_count": 146,
     "metadata": {},
     "output_type": "execute_result"
    }
   ],
   "source": [
    "np.corrcoef(x,y)[0][1]"
   ]
  },
  {
   "cell_type": "markdown",
   "id": "3afc6a09",
   "metadata": {},
   "source": [
    "x와 y 사이에는 약간의 음의 상관관계가 있다고 할 수 있다"
   ]
  },
  {
   "cell_type": "markdown",
   "id": "6914339a",
   "metadata": {},
   "source": [
    "## 연습문제 5.10\n",
    "다음은 흥분제의 양과 청각장애 지속시간을 제시하고 있다."
   ]
  },
  {
   "cell_type": "code",
   "execution_count": 153,
   "id": "26ba2f21",
   "metadata": {},
   "outputs": [
    {
     "data": {
      "image/png": "[encoded data removed]",
      "text/plain": [
       "<Figure size 640x480 with 1 Axes>"
      ]
     },
     "metadata": {},
     "output_type": "display_data"
    }
   ],
   "source": [
    "a= np.array([1,3,4,7,9,12,13,14])\n",
    "b=np.array([3.5 ,2.4 ,2.1 ,1.3 ,1.2 ,2.2 ,2.6 ,4.2])\n",
    "\n",
    "\n",
    "plt.figure()      #그림 그릴 도화지 생성\n",
    "plt.scatter(a,b, color ='red')  #x에 a y에 b를 두고 점도표의 점은 빨간색\n",
    "plt.xlabel('x')   #a축의 이름 x\n",
    "plt.ylabel('y')   #b축의 이름 y\n",
    "\n",
    "plt.show()\n"
   ]
  },
  {
   "cell_type": "markdown",
   "id": "5f82ce05",
   "metadata": {},
   "source": [
    "#### (1) 표본 상관계수를 구해라"
   ]
  },
  {
   "cell_type": "code",
   "execution_count": 157,
   "id": "f6ca0776",
   "metadata": {},
   "outputs": [
    {
     "data": {
      "text/plain": [
       "0.12674322847596553"
      ]
     },
     "execution_count": 157,
     "metadata": {},
     "output_type": "execute_result"
    }
   ],
   "source": [
    "# a와 b의 표본 상관 계수 구하기\n",
    "np.corrcoef(a, b)[0, 1]"
   ]
  },
  {
   "cell_type": "markdown",
   "id": "d8b70c46",
   "metadata": {},
   "source": [
    "#### (2)산점도를 그리고, 두 변수 간의 관계로부터 의미 없는 표본상관계수에 대해 논하라."
   ]
  },
  {
   "cell_type": "markdown",
   "id": "b07fe1d3",
   "metadata": {},
   "source": [
    "데이터의 상관계수가 -1또는 1에 수렴 할 수록 데이터의 분포가 선형의 모양을 띄며 두 변수가 직선관계에 있다고 말한다.\n",
    "데이터의 상관계쑤가 0에 수렴 할 수록 데이터의 분포가 선형의 모습을 찾아 보기 힘드며 두 변수가 직서의 관계가 매우 약하다고 말한다.\n",
    "\n",
    "\n",
    "따라서 위의 두 변수간의 상관계수를 보았을때 0에 거의 수렴하기때문에 두 변수 간에 직선의 관계가 매우 약하다 즉, 두 변수간 선형의 관계가 매우 약하다고 사료된다."
   ]
  },
  {
   "cell_type": "markdown",
   "id": "9aade801",
   "metadata": {},
   "source": [
    "## 5.11 20개의 자료 (x,y)로부터 다음과 같은 수치가 계산되어 있다."
   ]
  },
  {
   "cell_type": "markdown",
   "id": "a093610f",
   "metadata": {},
   "source": [
    "$\\sum$x=156, $\\sum$y=1178\n",
    "<br>\n",
    "$\\sum$x^2=1262, $\\sum$y^2=69390, $\\sum$xy=9203\n"
   ]
  },
  {
   "cell_type": "markdown",
   "id": "05516043",
   "metadata": {},
   "source": [
    "표본상관계수를 계산 하는 식은\n",
    "\n",
    "Sxy/Sx^0.5 * Sy^0.5이다\n",
    "<br>\n",
    "x의 평균은 156/20=7.8\n",
    "<br>\n",
    "y의 평균은 1178/20=58.9"
   ]
  },
  {
   "cell_type": "code",
   "execution_count": 176,
   "id": "5c48dcd0",
   "metadata": {},
   "outputs": [
    {
     "name": "stdout",
     "output_type": "stream",
     "text": [
      "14.600000000000364\n",
      "6.723094525588648\n",
      "2.408318915759063\n",
      "표본상관계수=  0.9017157212720961\n"
     ]
    }
   ],
   "source": [
    "Sxy=9203-20*58.9*7.8\n",
    "print(Sxy)\n",
    "\n",
    "Sxx=1262-20*7.8**2\n",
    "Sxx= Sxx**0.5\n",
    "print(Sxx)\n",
    "Syy= 69390-20*58.9**2\n",
    "Syy= Syy**0.5\n",
    "print(Syy)\n",
    "\n",
    "R= Sxy/(Sxx*Syy)\n",
    "print('표본상관계수= ',R)"
   ]
  },
  {
   "cell_type": "markdown",
   "id": "c7e7ed35",
   "metadata": {},
   "source": [
    "#### 표본상관계수가 1에 매우 근접한 상황임으로 두 자료 (x,y)는 매우 강한 양의 상관관계의 특성을 띄고 있으면 선형의 관계가 매우 강한 것으로 보여진다."
   ]
  }
 ],
 "metadata": {
  "kernelspec": {
   "display_name": "Python 3 (ipykernel)",
   "language": "python",
   "name": "python3"
  },
  "language_info": {
   "codemirror_mode": {
    "name": "ipython",
    "version": 3
   },
   "file_extension": ".py",
   "mimetype": "text/x-python",
   "name": "python",
   "nbconvert_exporter": "python",
   "pygments_lexer": "ipython3",
   "version": "3.9.13"
  }
 },
 "nbformat": 4,
 "nbformat_minor": 5
}
