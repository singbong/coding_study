{
 "cells": [
  {
   "cell_type": "markdown",
   "id": "21b2ba3f",
   "metadata": {},
   "source": [
    "### numpy의 delete() 함수"
   ]
  },
  {
   "cell_type": "code",
   "execution_count": 3,
   "id": "70bacc68",
   "metadata": {},
   "outputs": [
    {
     "name": "stdout",
     "output_type": "stream",
     "text": [
      "첫번째 \n",
      " [[ 1  3  4]\n",
      " [ 5  7  8]\n",
      " [ 9 11 12]]\n",
      "두번째\n",
      " [[1 2 3 4]\n",
      " [5 6 7 8]]\n",
      "세번째\n",
      " [ 1  2  4  5  6  7  8  9 10 11 12]\n",
      "\n",
      " [ 1  2  5  6  7  8  9 10 11 12]\n",
      "\n",
      " [[ 2  4]\n",
      " [ 6  8]\n",
      " [10 12]]\n"
     ]
    }
   ],
   "source": [
    "import pandas as pd\n",
    "import matplotlib.pyplot as plt\n",
    "import numpy as np\n",
    "\n",
    "arr = np.array([[1,2,3,4], [5,6,7,8], [9,10,11,12]])\n",
    "\n",
    "print('첫번째 \\n',np.delete(arr, 1, True))          #np.delete(arr, obj, axis) axis는 1 or 0 or True or False로 구성되어있다.\n",
    "\n",
    "print('두번째\\n',np.delete(arr,2,False))\n",
    "\n",
    "print('세번째\\n',np.delete(arr,2))  #axis를 입력 안하면 flatten화된 arr의 2번째 인덱스만 삭제가 된다\n",
    "\n",
    "print('\\n',np.delete(arr,[2,3])) #axis는 None 값 이므로 flatten화 된 arr 배열의 arr[2],arr[3]의 값이 삭제가 된다.\n",
    "\n",
    "print('\\n',np.delete(arr,[0,2],1)) #axis 값이 True임으로 arr 배열이 0번째 열과 2번째 열이 삭제가 된다."
   ]
  },
  {
   "cell_type": "markdown",
   "id": "cda36611",
   "metadata": {},
   "source": [
    "### 2. np.insert(arr, obj, values, axis=None)"
   ]
  },
  {
   "cell_type": "code",
   "execution_count": 14,
   "id": "7d2d7c76",
   "metadata": {},
   "outputs": [
    {
     "data": {
      "text/plain": [
       "array([[10, 20, 30,  1,  1],\n",
       "       [10, 20, 30,  2,  2],\n",
       "       [10, 20, 30,  3,  3]])"
      ]
     },
     "execution_count": 14,
     "metadata": {},
     "output_type": "execute_result"
    }
   ],
   "source": [
    "arr2= np.array([[1,1],\n",
    "             [2,2],\n",
    "             [3,3]])\n",
    "np.insert(arr2,0,2)\n",
    "\n",
    "#np.insert(arr2,1,[3,4],True) # 이런 경우 arr2의 값 처럼 값이 3개가 들어가야하는데 2개밖에 없어서 valueError가 발생한다\n",
    "np.insert(arr2,1,[3,4,5],True) # 이런식으로 갯수를 맞춰 주어야 에러가 발생하지 않는다.\n",
    "\n",
    "np.insert(arr2,1,[9,8],False) # 이것도 마찬가지로 1개의 row에 2개의 col이 들어있음으로 입력해주는 갑이 2개가 아닌 경우에는 에러가난다.\n",
    "\n",
    "np.insert(arr2,1,5,False) # axis가 False임으로 row추가인데 값이 2개가 들어와야하는데 1개만 들어가는 경우 자동 으로 복사한다 R의 원리\n",
    "#와 같은 것 같다.\n",
    "\n",
    "np.insert(arr2, [0,1,2], [10,20,30], axis=1) # 원하는 값을 나오게 하려면 [10,20,30] 대신 [[10],[20],[30]] 을 넣어야한다.\n",
    "\n",
    "np.insert(arr2, 0, [[10],[20],[30]],1) #열로 인식했던 배열을 행으로 인식하게 끔 만들어 10,20,30이 하나의 원소로 작용한거같음"
   ]
  },
  {
   "cell_type": "markdown",
   "id": "96f103dd",
   "metadata": {},
   "source": [
    "### 3. np.append(arr, values, axis=None)"
   ]
  },
  {
   "cell_type": "code",
   "execution_count": 21,
   "id": "ad40a777",
   "metadata": {},
   "outputs": [
    {
     "data": {
      "text/plain": [
       "array([[ 1,  2, 10,  3],\n",
       "       [ 4,  5, 20,  6],\n",
       "       [ 7,  8, 30,  9]])"
      ]
     },
     "execution_count": 21,
     "metadata": {},
     "output_type": "execute_result"
    }
   ],
   "source": [
    "a = np.array([[1, 2, 3],\n",
    "              [4, 5, 6], \n",
    "              [7, 8, 9]])\n",
    "\n",
    "np.append(a,[1,2,3]) # axis값이 none이므로 flatten 이후 123 append\n",
    "np.append(a, [[10, 20, 30]], axis=0) # 마지막 row에 10 20 30 추가\n",
    "np.append(a, [[10], [20], [30]], axis=1) # axis가 1임으로 col을 추가하는 것인데 [[10, 20, 30]] 이것은 numpy가 col이 아닌 row로 받아들임"
   ]
  },
  {
   "cell_type": "markdown",
   "id": "25c57b9e",
   "metadata": {},
   "source": [
    "### 4. np.trim_zeros(filt, trim='fb')"
   ]
  },
  {
   "cell_type": "code",
   "execution_count": 24,
   "id": "81e6bea3",
   "metadata": {},
   "outputs": [
    {
     "data": {
      "text/plain": [
       "array([1, 2, 3, 0, 2, 1])"
      ]
     },
     "execution_count": 24,
     "metadata": {},
     "output_type": "execute_result"
    }
   ],
   "source": [
    "b = np.array((0, 0, 0, 1, 2, 3, 0, 2, 1, 0, 0, 0))\n",
    "\n",
    "np.trim_zeros(b, trim='f') # b배열의 front부분 0 제거\n",
    "np.trim_zeros(b, trim='b') # b배열의 back 부분 0 제거\n",
    "np.trim_zeros(b, trim='fb') #  b배열의 front, back 0제거\n"
   ]
  },
  {
   "cell_type": "markdown",
   "id": "9aa5a357",
   "metadata": {},
   "source": [
    "### 5.np.unique(ar, return_index=False, return_inverse=False, return_counts=False, axis=None)"
   ]
  },
  {
   "cell_type": "code",
   "execution_count": 25,
   "id": "bdda4711",
   "metadata": {},
   "outputs": [
    {
     "data": {
      "text/plain": [
       "(array([1, 2, 3]),\n",
       " array([0, 1, 3], dtype=int64),\n",
       " array([0, 1, 1, 2, 2, 2], dtype=int64),\n",
       " array([1, 2, 3], dtype=int64))"
      ]
     },
     "execution_count": 25,
     "metadata": {},
     "output_type": "execute_result"
    }
   ],
   "source": [
    "a = np.array([1, 2, 2, 3, 3, 3])\n",
    "# array([1, 2, 2, 3, 3, 3])\n",
    "\n",
    "np.unique(a)\n",
    "# array([1, 2, 3])\n",
    "\n",
    "np.unique(a, return_index=True)\n",
    "# (array([1, 2, 3]), array([0, 1, 3]))\n",
    "\n",
    "np.unique(a, return_index=True, return_inverse=True)\n",
    "# (array([1, 2, 3]), array([0, 1, 3]), array([0, 1, 1, 2, 2, 2]))\n",
    "\n",
    "np.unique(a, return_index=True, return_inverse=True, return_counts=True)\n",
    "# (array([1, 2, 3]),\n",
    "#  array([0, 1, 3]),\n",
    "#  array([0, 1, 1, 2, 2, 2]),\n",
    "#  array([1, 2, 3]))"
   ]
  },
  {
   "cell_type": "code",
   "execution_count": null,
   "id": "862fed44",
   "metadata": {},
   "outputs": [],
   "source": []
  }
 ],
 "metadata": {
  "kernelspec": {
   "display_name": "Python 3 (ipykernel)",
   "language": "python",
   "name": "python3"
  },
  "language_info": {
   "codemirror_mode": {
    "name": "ipython",
    "version": 3
   },
   "file_extension": ".py",
   "mimetype": "text/x-python",
   "name": "python",
   "nbconvert_exporter": "python",
   "pygments_lexer": "ipython3",
   "version": "3.9.13"
  }
 },
 "nbformat": 4,
 "nbformat_minor": 5
}
