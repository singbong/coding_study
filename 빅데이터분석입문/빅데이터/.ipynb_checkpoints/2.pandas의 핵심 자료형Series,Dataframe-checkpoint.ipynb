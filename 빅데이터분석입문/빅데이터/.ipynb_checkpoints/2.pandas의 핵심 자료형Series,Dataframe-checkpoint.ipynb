{
 "cells": [
  {
   "cell_type": "markdown",
   "id": "2300006b",
   "metadata": {},
   "source": [
    "### Series & DataFrame\n",
    "판다스는 엑셀의 파이썬 버전이다.\n",
    "엑셀은 표(table)형태 로 데이터를 저장합니다.\n",
    "이표가 바로 판다스에서는 DataFrame입니다. Dataframe은 Series를 여러개 붙여서 만들어집니다."
   ]
  },
  {
   "cell_type": "code",
   "execution_count": 2,
   "id": "39b2411f",
   "metadata": {},
   "outputs": [],
   "source": [
    "import pandas as pd\n",
    "import numpy as np"
   ]
  },
  {
   "cell_type": "code",
   "execution_count": 10,
   "id": "35b72ecc",
   "metadata": {},
   "outputs": [
    {
     "data": {
      "text/plain": [
       "[1, 2, 3, 4, 5, 6, 7, 8, 9, 10]"
      ]
     },
     "execution_count": 10,
     "metadata": {},
     "output_type": "execute_result"
    }
   ],
   "source": [
    "nums= [i for i in range(1,11)]\n",
    "nums"
   ]
  },
  {
   "cell_type": "markdown",
   "id": "c9d1d03b",
   "metadata": {},
   "source": [
    "### Series 데이터를 생성하는 방법"
   ]
  },
  {
   "cell_type": "code",
   "execution_count": 11,
   "id": "f25686b7",
   "metadata": {},
   "outputs": [
    {
     "data": {
      "text/plain": [
       "0     1\n",
       "1     2\n",
       "2     3\n",
       "3     4\n",
       "4     5\n",
       "5     6\n",
       "6     7\n",
       "7     8\n",
       "8     9\n",
       "9    10\n",
       "dtype: int64"
      ]
     },
     "execution_count": 11,
     "metadata": {},
     "output_type": "execute_result"
    }
   ],
   "source": [
    "seriesNums= pd.Series(nums)\n",
    "seriesNums #rowname으로 인덱스가 생겼다."
   ]
  },
  {
   "cell_type": "markdown",
   "id": "eb38f663",
   "metadata": {},
   "source": [
    " 애꿎은 list를 Series로 만들어서 뭐하냐\n",
    " -> pandas의 다양한 기능을 사용할 수 있다."
   ]
  },
  {
   "cell_type": "code",
   "execution_count": 12,
   "id": "f021c61c",
   "metadata": {},
   "outputs": [
    {
     "data": {
      "text/plain": [
       "5.5"
      ]
     },
     "execution_count": 12,
     "metadata": {},
     "output_type": "execute_result"
    }
   ],
   "source": [
    "seriesNums.mean()"
   ]
  },
  {
   "cell_type": "code",
   "execution_count": 13,
   "id": "c5cb730e",
   "metadata": {},
   "outputs": [
    {
     "data": {
      "text/plain": [
       "count    10.00000\n",
       "mean      5.50000\n",
       "std       3.02765\n",
       "min       1.00000\n",
       "25%       3.25000\n",
       "50%       5.50000\n",
       "75%       7.75000\n",
       "max      10.00000\n",
       "dtype: float64"
      ]
     },
     "execution_count": 13,
     "metadata": {},
     "output_type": "execute_result"
    }
   ],
   "source": [
    "seriesNums.describe()"
   ]
  },
  {
   "cell_type": "markdown",
   "id": "24ebdfcc",
   "metadata": {},
   "source": [
    "### DataFrame을 생성하는 방법"
   ]
  },
  {
   "cell_type": "code",
   "execution_count": 17,
   "id": "b967fa1f",
   "metadata": {},
   "outputs": [
    {
     "name": "stdout",
     "output_type": "stream",
     "text": [
      "   0  1  2\n",
      "0  1  2  3\n",
      "1  4  5  6\n",
      "2  7  8  9\n"
     ]
    }
   ],
   "source": [
    "nums= [\n",
    "    [1,2,3],\n",
    "    [4,5,6],\n",
    "    [7,8,9]\n",
    "]\n",
    "dfNums=pd.DataFrame(nums)\n",
    "print(dfNums)"
   ]
  },
  {
   "cell_type": "markdown",
   "id": "eb426b57",
   "metadata": {},
   "source": [
    "#### Series와 DataFame 관계\n",
    "여러개의 Series를 합친게 DataFame이다."
   ]
  },
  {
   "cell_type": "code",
   "execution_count": 18,
   "id": "6534401c",
   "metadata": {},
   "outputs": [
    {
     "name": "stdout",
     "output_type": "stream",
     "text": [
      "<class 'pandas.core.frame.DataFrame'>\n"
     ]
    }
   ],
   "source": [
    "print(type(dfNums))    #판다스의 데이터 프레임"
   ]
  },
  {
   "cell_type": "code",
   "execution_count": 22,
   "id": "d140d682",
   "metadata": {},
   "outputs": [
    {
     "data": {
      "text/plain": [
       "0    1\n",
       "1    4\n",
       "2    7\n",
       "Name: 0, dtype: int64"
      ]
     },
     "execution_count": 22,
     "metadata": {},
     "output_type": "execute_result"
    }
   ],
   "source": [
    "dfNums[0]"
   ]
  },
  {
   "cell_type": "code",
   "execution_count": 23,
   "id": "dfb9f0fd",
   "metadata": {},
   "outputs": [
    {
     "data": {
      "text/plain": [
       "pandas.core.series.Series"
      ]
     },
     "execution_count": 23,
     "metadata": {},
     "output_type": "execute_result"
    }
   ],
   "source": [
    "type(dfNums[0]) # 판다스의 시리즈 형태 이것으로 시리즈가 모여 데이터 프레임을 이루는 것을 알 수 있다"
   ]
  },
  {
   "cell_type": "markdown",
   "id": "8c5ea411",
   "metadata": {},
   "source": [
    "### DataFrame을 생성하는 다른 방법\n",
    " 리스트 전달(위에서 했던 방식)"
   ]
  },
  {
   "cell_type": "code",
   "execution_count": 24,
   "id": "fb4da1ab",
   "metadata": {},
   "outputs": [
    {
     "data": {
      "text/plain": [
       "[['철수', 180, 5], ['민수', 170, 5], ['짱구', 130, 5]]"
      ]
     },
     "execution_count": 24,
     "metadata": {},
     "output_type": "execute_result"
    }
   ],
   "source": [
    "users= [\n",
    "    ['철수', 180,5],\n",
    "    ['민수', 170,5],\n",
    "    ['짱구', 130,5],\n",
    "]\n",
    "users"
   ]
  },
  {
   "cell_type": "code",
   "execution_count": 29,
   "id": "eb11602b",
   "metadata": {},
   "outputs": [
    {
     "data": {
      "text/html": [
       "<div>\n",
       "<style scoped>\n",
       "    .dataframe tbody tr th:only-of-type {\n",
       "        vertical-align: middle;\n",
       "    }\n",
       "\n",
       "    .dataframe tbody tr th {\n",
       "        vertical-align: top;\n",
       "    }\n",
       "\n",
       "    .dataframe thead th {\n",
       "        text-align: right;\n",
       "    }\n",
       "</style>\n",
       "<table border=\"1\" class=\"dataframe\">\n",
       "  <thead>\n",
       "    <tr style=\"text-align: right;\">\n",
       "      <th></th>\n",
       "      <th>0</th>\n",
       "      <th>1</th>\n",
       "      <th>2</th>\n",
       "    </tr>\n",
       "  </thead>\n",
       "  <tbody>\n",
       "    <tr>\n",
       "      <th>0</th>\n",
       "      <td>철수</td>\n",
       "      <td>180</td>\n",
       "      <td>5</td>\n",
       "    </tr>\n",
       "    <tr>\n",
       "      <th>1</th>\n",
       "      <td>민수</td>\n",
       "      <td>170</td>\n",
       "      <td>5</td>\n",
       "    </tr>\n",
       "    <tr>\n",
       "      <th>2</th>\n",
       "      <td>짱구</td>\n",
       "      <td>130</td>\n",
       "      <td>5</td>\n",
       "    </tr>\n",
       "  </tbody>\n",
       "</table>\n",
       "</div>"
      ],
      "text/plain": [
       "    0    1  2\n",
       "0  철수  180  5\n",
       "1  민수  170  5\n",
       "2  짱구  130  5"
      ]
     },
     "execution_count": 29,
     "metadata": {},
     "output_type": "execute_result"
    }
   ],
   "source": [
    "df_users= pd.DataFrame(users)\n",
    "df_users"
   ]
  },
  {
   "cell_type": "markdown",
   "id": "8ef4f070",
   "metadata": {},
   "source": [
    "#### col의 name을 지정해주자 "
   ]
  },
  {
   "cell_type": "code",
   "execution_count": 31,
   "id": "4aea63c9",
   "metadata": {
    "scrolled": true
   },
   "outputs": [
    {
     "data": {
      "text/html": [
       "<div>\n",
       "<style scoped>\n",
       "    .dataframe tbody tr th:only-of-type {\n",
       "        vertical-align: middle;\n",
       "    }\n",
       "\n",
       "    .dataframe tbody tr th {\n",
       "        vertical-align: top;\n",
       "    }\n",
       "\n",
       "    .dataframe thead th {\n",
       "        text-align: right;\n",
       "    }\n",
       "</style>\n",
       "<table border=\"1\" class=\"dataframe\">\n",
       "  <thead>\n",
       "    <tr style=\"text-align: right;\">\n",
       "      <th></th>\n",
       "      <th>이름</th>\n",
       "      <th>키</th>\n",
       "      <th>나이</th>\n",
       "    </tr>\n",
       "  </thead>\n",
       "  <tbody>\n",
       "    <tr>\n",
       "      <th>0</th>\n",
       "      <td>철수</td>\n",
       "      <td>180</td>\n",
       "      <td>5</td>\n",
       "    </tr>\n",
       "    <tr>\n",
       "      <th>1</th>\n",
       "      <td>민수</td>\n",
       "      <td>170</td>\n",
       "      <td>5</td>\n",
       "    </tr>\n",
       "    <tr>\n",
       "      <th>2</th>\n",
       "      <td>짱구</td>\n",
       "      <td>130</td>\n",
       "      <td>5</td>\n",
       "    </tr>\n",
       "  </tbody>\n",
       "</table>\n",
       "</div>"
      ],
      "text/plain": [
       "   이름    키  나이\n",
       "0  철수  180   5\n",
       "1  민수  170   5\n",
       "2  짱구  130   5"
      ]
     },
     "execution_count": 31,
     "metadata": {},
     "output_type": "execute_result"
    }
   ],
   "source": [
    "df_users.columns=['이름','키','나이']\n",
    "df_users"
   ]
  },
  {
   "cell_type": "markdown",
   "id": "113b8c4c",
   "metadata": {},
   "source": [
    "#### 딕셔너리로 전달되는 경우"
   ]
  },
  {
   "cell_type": "code",
   "execution_count": 33,
   "id": "67efac75",
   "metadata": {},
   "outputs": [],
   "source": [
    "users2=dict(\n",
    "이름=['철수','민수','짱구'],\n",
    "키=[180,170,130],\n",
    "나이=[5,5,5])"
   ]
  },
  {
   "cell_type": "code",
   "execution_count": 39,
   "id": "f869be19",
   "metadata": {},
   "outputs": [
    {
     "name": "stdout",
     "output_type": "stream",
     "text": [
      "   이름    키  나이\n",
      "0  철수  180   5\n",
      "1  민수  170   5\n",
      "2  짱구  130   5\n",
      "   이름    키  나이\n",
      "0  철수  180   5\n",
      "1  민수  170   5\n",
      "2  짱구  130   5\n"
     ]
    }
   ],
   "source": [
    "df_users2= pd.DataFrame(users2)\n",
    "print(df_users2)\n",
    "print(df_users)          #애초에 딕셔너리 형태로 집어 넣으면 문제가 없다."
   ]
  },
  {
   "cell_type": "markdown",
   "id": "5eb62dfc",
   "metadata": {},
   "source": [
    "#### 리스트 in 딕셔너리 전달\n",
    "실제 현업에서는 api요청의 결과로 이런 형식의 데이터 포맷으로 올 가능성이 크다."
   ]
  },
  {
   "cell_type": "code",
   "execution_count": 41,
   "id": "f4cd4342",
   "metadata": {},
   "outputs": [
    {
     "data": {
      "text/plain": [
       "[{'이름': '철수', '키': 180, '나이': 5},\n",
       " {'이름': '민수', '키': 170, '나이': 5},\n",
       " {'이름': '짱구', '키': 130, '나이': 5}]"
      ]
     },
     "execution_count": 41,
     "metadata": {},
     "output_type": "execute_result"
    }
   ],
   "source": [
    "users3=[\n",
    "    dict(이름='철수',키=180,나이=5),\n",
    "    dict(이름='민수',키=170,나이=5),\n",
    "    dict(이름='짱구',키=130,나이=5),\n",
    "]\n",
    "users3"
   ]
  },
  {
   "cell_type": "code",
   "execution_count": 42,
   "id": "08ca1961",
   "metadata": {},
   "outputs": [
    {
     "name": "stdout",
     "output_type": "stream",
     "text": [
      "   이름    키  나이\n",
      "0  철수  180   5\n",
      "1  민수  170   5\n",
      "2  짱구  130   5\n"
     ]
    }
   ],
   "source": [
    "df_users3= pd.DataFrame(users3)\n",
    "print(df_users3)"
   ]
  },
  {
   "cell_type": "markdown",
   "id": "54c07399",
   "metadata": {},
   "source": [
    "## DataFrame의 행,열,인덱스"
   ]
  },
  {
   "cell_type": "code",
   "execution_count": null,
   "id": "cad2d6ef",
   "metadata": {},
   "outputs": [],
   "source": [
    "sample= pd.read.csv(\"./내국인\")"
   ]
  }
 ],
 "metadata": {
  "kernelspec": {
   "display_name": "Python 3 (ipykernel)",
   "language": "python",
   "name": "python3"
  },
  "language_info": {
   "codemirror_mode": {
    "name": "ipython",
    "version": 3
   },
   "file_extension": ".py",
   "mimetype": "text/x-python",
   "name": "python",
   "nbconvert_exporter": "python",
   "pygments_lexer": "ipython3",
   "version": "3.9.13"
  }
 },
 "nbformat": 4,
 "nbformat_minor": 5
}
